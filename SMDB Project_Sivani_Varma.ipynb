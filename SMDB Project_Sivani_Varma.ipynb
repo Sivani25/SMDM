{
 "cells": [
  {
   "cell_type": "code",
   "execution_count": 128,
   "metadata": {},
   "outputs": [],
   "source": [
    "#Importing important libraries for this project\n",
    "\n",
    "import numpy as np\n",
    "import pandas as pd\n",
    "from scipy.stats import f\n",
    "import matplotlib.pyplot as plt \n",
    "%matplotlib inline\n",
    "import seaborn as sns\n",
    "import scipy.stats as stats\n",
    "from scipy.stats import ttest_1samp, ttest_ind\n",
    "from statsmodels.stats.power import ttest_power"
   ]
  },
  {
   "cell_type": "markdown",
   "metadata": {},
   "source": [
    "# Problem 1 Statement -\n",
    "A wholesale distributor operating in different regions of Portugal has information on annual spending of several items in their stores across different regions and channels. The data consists of 440 large retailers’ annual spending on 6 different varieties of products in 3 different regions (Lisbon, Oporto, Other) and across different sales channel (Hotel, Retail)."
   ]
  },
  {
   "cell_type": "code",
   "execution_count": 129,
   "metadata": {},
   "outputs": [
    {
     "data": {
      "text/html": [
       "<div>\n",
       "<style scoped>\n",
       "    .dataframe tbody tr th:only-of-type {\n",
       "        vertical-align: middle;\n",
       "    }\n",
       "\n",
       "    .dataframe tbody tr th {\n",
       "        vertical-align: top;\n",
       "    }\n",
       "\n",
       "    .dataframe thead th {\n",
       "        text-align: right;\n",
       "    }\n",
       "</style>\n",
       "<table border=\"1\" class=\"dataframe\">\n",
       "  <thead>\n",
       "    <tr style=\"text-align: right;\">\n",
       "      <th></th>\n",
       "      <th>Buyer/Spender</th>\n",
       "      <th>Channel</th>\n",
       "      <th>Region</th>\n",
       "      <th>Fresh</th>\n",
       "      <th>Milk</th>\n",
       "      <th>Grocery</th>\n",
       "      <th>Frozen</th>\n",
       "      <th>Detergents_Paper</th>\n",
       "      <th>Delicatessen</th>\n",
       "    </tr>\n",
       "  </thead>\n",
       "  <tbody>\n",
       "    <tr>\n",
       "      <th>0</th>\n",
       "      <td>1</td>\n",
       "      <td>Retail</td>\n",
       "      <td>Other</td>\n",
       "      <td>12669</td>\n",
       "      <td>9656</td>\n",
       "      <td>7561</td>\n",
       "      <td>214</td>\n",
       "      <td>2674</td>\n",
       "      <td>1338</td>\n",
       "    </tr>\n",
       "    <tr>\n",
       "      <th>1</th>\n",
       "      <td>2</td>\n",
       "      <td>Retail</td>\n",
       "      <td>Other</td>\n",
       "      <td>7057</td>\n",
       "      <td>9810</td>\n",
       "      <td>9568</td>\n",
       "      <td>1762</td>\n",
       "      <td>3293</td>\n",
       "      <td>1776</td>\n",
       "    </tr>\n",
       "    <tr>\n",
       "      <th>2</th>\n",
       "      <td>3</td>\n",
       "      <td>Retail</td>\n",
       "      <td>Other</td>\n",
       "      <td>6353</td>\n",
       "      <td>8808</td>\n",
       "      <td>7684</td>\n",
       "      <td>2405</td>\n",
       "      <td>3516</td>\n",
       "      <td>7844</td>\n",
       "    </tr>\n",
       "    <tr>\n",
       "      <th>3</th>\n",
       "      <td>4</td>\n",
       "      <td>Hotel</td>\n",
       "      <td>Other</td>\n",
       "      <td>13265</td>\n",
       "      <td>1196</td>\n",
       "      <td>4221</td>\n",
       "      <td>6404</td>\n",
       "      <td>507</td>\n",
       "      <td>1788</td>\n",
       "    </tr>\n",
       "    <tr>\n",
       "      <th>4</th>\n",
       "      <td>5</td>\n",
       "      <td>Retail</td>\n",
       "      <td>Other</td>\n",
       "      <td>22615</td>\n",
       "      <td>5410</td>\n",
       "      <td>7198</td>\n",
       "      <td>3915</td>\n",
       "      <td>1777</td>\n",
       "      <td>5185</td>\n",
       "    </tr>\n",
       "  </tbody>\n",
       "</table>\n",
       "</div>"
      ],
      "text/plain": [
       "   Buyer/Spender Channel Region  Fresh  Milk  Grocery  Frozen  \\\n",
       "0              1  Retail  Other  12669  9656     7561     214   \n",
       "1              2  Retail  Other   7057  9810     9568    1762   \n",
       "2              3  Retail  Other   6353  8808     7684    2405   \n",
       "3              4   Hotel  Other  13265  1196     4221    6404   \n",
       "4              5  Retail  Other  22615  5410     7198    3915   \n",
       "\n",
       "   Detergents_Paper  Delicatessen  \n",
       "0              2674          1338  \n",
       "1              3293          1776  \n",
       "2              3516          7844  \n",
       "3               507          1788  \n",
       "4              1777          5185  "
      ]
     },
     "execution_count": 129,
     "metadata": {},
     "output_type": "execute_result"
    }
   ],
   "source": [
    "# Importing the wholesale customers dataset\n",
    "\n",
    "Customerdata=pd.read_csv('Wholesale+Customers+Data.csv')\n",
    "Customerdata.head()"
   ]
  },
  {
   "cell_type": "code",
   "execution_count": 130,
   "metadata": {},
   "outputs": [
    {
     "name": "stdout",
     "output_type": "stream",
     "text": [
      "<class 'pandas.core.frame.DataFrame'>\n",
      "RangeIndex: 440 entries, 0 to 439\n",
      "Data columns (total 9 columns):\n",
      " #   Column            Non-Null Count  Dtype \n",
      "---  ------            --------------  ----- \n",
      " 0   Buyer/Spender     440 non-null    int64 \n",
      " 1   Channel           440 non-null    object\n",
      " 2   Region            440 non-null    object\n",
      " 3   Fresh             440 non-null    int64 \n",
      " 4   Milk              440 non-null    int64 \n",
      " 5   Grocery           440 non-null    int64 \n",
      " 6   Frozen            440 non-null    int64 \n",
      " 7   Detergents_Paper  440 non-null    int64 \n",
      " 8   Delicatessen      440 non-null    int64 \n",
      "dtypes: int64(7), object(2)\n",
      "memory usage: 31.1+ KB\n"
     ]
    }
   ],
   "source": [
    "Customerdata.info()"
   ]
  },
  {
   "cell_type": "markdown",
   "metadata": {},
   "source": [
    "The data has 440 instances with 9 attributes. 7 integer type, 0 float type and 2 object type(Strings in the column)"
   ]
  },
  {
   "cell_type": "markdown",
   "metadata": {},
   "source": [
    "1.1 Use methods of descriptive statistics to summarize data. \n",
    "Which Region and which Channel seems to spend more? Which Region and which Channel seems to spend less?\n"
   ]
  },
  {
   "cell_type": "code",
   "execution_count": 131,
   "metadata": {},
   "outputs": [
    {
     "data": {
      "text/html": [
       "<div>\n",
       "<style scoped>\n",
       "    .dataframe tbody tr th:only-of-type {\n",
       "        vertical-align: middle;\n",
       "    }\n",
       "\n",
       "    .dataframe tbody tr th {\n",
       "        vertical-align: top;\n",
       "    }\n",
       "\n",
       "    .dataframe thead th {\n",
       "        text-align: right;\n",
       "    }\n",
       "</style>\n",
       "<table border=\"1\" class=\"dataframe\">\n",
       "  <thead>\n",
       "    <tr style=\"text-align: right;\">\n",
       "      <th></th>\n",
       "      <th>Region</th>\n",
       "    </tr>\n",
       "  </thead>\n",
       "  <tbody>\n",
       "    <tr>\n",
       "      <th>max</th>\n",
       "      <td>Other</td>\n",
       "    </tr>\n",
       "    <tr>\n",
       "      <th>min</th>\n",
       "      <td>Lisbon</td>\n",
       "    </tr>\n",
       "  </tbody>\n",
       "</table>\n",
       "</div>"
      ],
      "text/plain": [
       "     Region\n",
       "max   Other\n",
       "min  Lisbon"
      ]
     },
     "execution_count": 131,
     "metadata": {},
     "output_type": "execute_result"
    }
   ],
   "source": [
    "Customerdata.aggregate({\"Region\":['max','min']})"
   ]
  },
  {
   "cell_type": "code",
   "execution_count": 132,
   "metadata": {},
   "outputs": [
    {
     "data": {
      "text/html": [
       "<div>\n",
       "<style scoped>\n",
       "    .dataframe tbody tr th:only-of-type {\n",
       "        vertical-align: middle;\n",
       "    }\n",
       "\n",
       "    .dataframe tbody tr th {\n",
       "        vertical-align: top;\n",
       "    }\n",
       "\n",
       "    .dataframe thead th {\n",
       "        text-align: right;\n",
       "    }\n",
       "</style>\n",
       "<table border=\"1\" class=\"dataframe\">\n",
       "  <thead>\n",
       "    <tr style=\"text-align: right;\">\n",
       "      <th></th>\n",
       "      <th>Channel</th>\n",
       "    </tr>\n",
       "  </thead>\n",
       "  <tbody>\n",
       "    <tr>\n",
       "      <th>max</th>\n",
       "      <td>Retail</td>\n",
       "    </tr>\n",
       "    <tr>\n",
       "      <th>min</th>\n",
       "      <td>Hotel</td>\n",
       "    </tr>\n",
       "  </tbody>\n",
       "</table>\n",
       "</div>"
      ],
      "text/plain": [
       "    Channel\n",
       "max  Retail\n",
       "min   Hotel"
      ]
     },
     "execution_count": 132,
     "metadata": {},
     "output_type": "execute_result"
    }
   ],
   "source": [
    "Customerdata.aggregate({\"Channel\":['max','min']})"
   ]
  },
  {
   "cell_type": "markdown",
   "metadata": {},
   "source": [
    "By using the aggregate funtion on channel and Region column Individually,With the help of discriptive statistics\n",
    "- we were able to identify RETAIL channel and OTHER region from the data set spends more. \n",
    "- where as, HOTEL channel and LISBON region spend less.\n",
    "\n"
   ]
  },
  {
   "cell_type": "markdown",
   "metadata": {},
   "source": [
    "1.2 There are 6 different varieties of items are considered. Do all varieties show similar behaviour across Region and Channel?  Provide justification for your answer"
   ]
  },
  {
   "cell_type": "code",
   "execution_count": 133,
   "metadata": {},
   "outputs": [
    {
     "data": {
      "text/html": [
       "<div>\n",
       "<style scoped>\n",
       "    .dataframe tbody tr th:only-of-type {\n",
       "        vertical-align: middle;\n",
       "    }\n",
       "\n",
       "    .dataframe tbody tr th {\n",
       "        vertical-align: top;\n",
       "    }\n",
       "\n",
       "    .dataframe thead th {\n",
       "        text-align: right;\n",
       "    }\n",
       "</style>\n",
       "<table border=\"1\" class=\"dataframe\">\n",
       "  <thead>\n",
       "    <tr style=\"text-align: right;\">\n",
       "      <th></th>\n",
       "      <th>Buyer/Spender</th>\n",
       "      <th>Channel</th>\n",
       "      <th>Region</th>\n",
       "      <th>Fresh</th>\n",
       "      <th>Milk</th>\n",
       "      <th>Grocery</th>\n",
       "      <th>Frozen</th>\n",
       "      <th>Detergents_Paper</th>\n",
       "      <th>Delicatessen</th>\n",
       "    </tr>\n",
       "  </thead>\n",
       "  <tbody>\n",
       "    <tr>\n",
       "      <th>count</th>\n",
       "      <td>440.000000</td>\n",
       "      <td>440</td>\n",
       "      <td>440</td>\n",
       "      <td>440.000000</td>\n",
       "      <td>440.000000</td>\n",
       "      <td>440.000000</td>\n",
       "      <td>440.000000</td>\n",
       "      <td>440.000000</td>\n",
       "      <td>440.000000</td>\n",
       "    </tr>\n",
       "    <tr>\n",
       "      <th>unique</th>\n",
       "      <td>NaN</td>\n",
       "      <td>2</td>\n",
       "      <td>3</td>\n",
       "      <td>NaN</td>\n",
       "      <td>NaN</td>\n",
       "      <td>NaN</td>\n",
       "      <td>NaN</td>\n",
       "      <td>NaN</td>\n",
       "      <td>NaN</td>\n",
       "    </tr>\n",
       "    <tr>\n",
       "      <th>top</th>\n",
       "      <td>NaN</td>\n",
       "      <td>Hotel</td>\n",
       "      <td>Other</td>\n",
       "      <td>NaN</td>\n",
       "      <td>NaN</td>\n",
       "      <td>NaN</td>\n",
       "      <td>NaN</td>\n",
       "      <td>NaN</td>\n",
       "      <td>NaN</td>\n",
       "    </tr>\n",
       "    <tr>\n",
       "      <th>freq</th>\n",
       "      <td>NaN</td>\n",
       "      <td>298</td>\n",
       "      <td>316</td>\n",
       "      <td>NaN</td>\n",
       "      <td>NaN</td>\n",
       "      <td>NaN</td>\n",
       "      <td>NaN</td>\n",
       "      <td>NaN</td>\n",
       "      <td>NaN</td>\n",
       "    </tr>\n",
       "    <tr>\n",
       "      <th>mean</th>\n",
       "      <td>220.500000</td>\n",
       "      <td>NaN</td>\n",
       "      <td>NaN</td>\n",
       "      <td>12000.297727</td>\n",
       "      <td>5796.265909</td>\n",
       "      <td>7951.277273</td>\n",
       "      <td>3071.931818</td>\n",
       "      <td>2881.493182</td>\n",
       "      <td>1524.870455</td>\n",
       "    </tr>\n",
       "    <tr>\n",
       "      <th>std</th>\n",
       "      <td>127.161315</td>\n",
       "      <td>NaN</td>\n",
       "      <td>NaN</td>\n",
       "      <td>12647.328865</td>\n",
       "      <td>7380.377175</td>\n",
       "      <td>9503.162829</td>\n",
       "      <td>4854.673333</td>\n",
       "      <td>4767.854448</td>\n",
       "      <td>2820.105937</td>\n",
       "    </tr>\n",
       "    <tr>\n",
       "      <th>min</th>\n",
       "      <td>1.000000</td>\n",
       "      <td>NaN</td>\n",
       "      <td>NaN</td>\n",
       "      <td>3.000000</td>\n",
       "      <td>55.000000</td>\n",
       "      <td>3.000000</td>\n",
       "      <td>25.000000</td>\n",
       "      <td>3.000000</td>\n",
       "      <td>3.000000</td>\n",
       "    </tr>\n",
       "    <tr>\n",
       "      <th>25%</th>\n",
       "      <td>110.750000</td>\n",
       "      <td>NaN</td>\n",
       "      <td>NaN</td>\n",
       "      <td>3127.750000</td>\n",
       "      <td>1533.000000</td>\n",
       "      <td>2153.000000</td>\n",
       "      <td>742.250000</td>\n",
       "      <td>256.750000</td>\n",
       "      <td>408.250000</td>\n",
       "    </tr>\n",
       "    <tr>\n",
       "      <th>50%</th>\n",
       "      <td>220.500000</td>\n",
       "      <td>NaN</td>\n",
       "      <td>NaN</td>\n",
       "      <td>8504.000000</td>\n",
       "      <td>3627.000000</td>\n",
       "      <td>4755.500000</td>\n",
       "      <td>1526.000000</td>\n",
       "      <td>816.500000</td>\n",
       "      <td>965.500000</td>\n",
       "    </tr>\n",
       "    <tr>\n",
       "      <th>75%</th>\n",
       "      <td>330.250000</td>\n",
       "      <td>NaN</td>\n",
       "      <td>NaN</td>\n",
       "      <td>16933.750000</td>\n",
       "      <td>7190.250000</td>\n",
       "      <td>10655.750000</td>\n",
       "      <td>3554.250000</td>\n",
       "      <td>3922.000000</td>\n",
       "      <td>1820.250000</td>\n",
       "    </tr>\n",
       "    <tr>\n",
       "      <th>max</th>\n",
       "      <td>440.000000</td>\n",
       "      <td>NaN</td>\n",
       "      <td>NaN</td>\n",
       "      <td>112151.000000</td>\n",
       "      <td>73498.000000</td>\n",
       "      <td>92780.000000</td>\n",
       "      <td>60869.000000</td>\n",
       "      <td>40827.000000</td>\n",
       "      <td>47943.000000</td>\n",
       "    </tr>\n",
       "  </tbody>\n",
       "</table>\n",
       "</div>"
      ],
      "text/plain": [
       "        Buyer/Spender Channel Region          Fresh          Milk  \\\n",
       "count      440.000000     440    440     440.000000    440.000000   \n",
       "unique            NaN       2      3            NaN           NaN   \n",
       "top               NaN   Hotel  Other            NaN           NaN   \n",
       "freq              NaN     298    316            NaN           NaN   \n",
       "mean       220.500000     NaN    NaN   12000.297727   5796.265909   \n",
       "std        127.161315     NaN    NaN   12647.328865   7380.377175   \n",
       "min          1.000000     NaN    NaN       3.000000     55.000000   \n",
       "25%        110.750000     NaN    NaN    3127.750000   1533.000000   \n",
       "50%        220.500000     NaN    NaN    8504.000000   3627.000000   \n",
       "75%        330.250000     NaN    NaN   16933.750000   7190.250000   \n",
       "max        440.000000     NaN    NaN  112151.000000  73498.000000   \n",
       "\n",
       "             Grocery        Frozen  Detergents_Paper  Delicatessen  \n",
       "count     440.000000    440.000000        440.000000    440.000000  \n",
       "unique           NaN           NaN               NaN           NaN  \n",
       "top              NaN           NaN               NaN           NaN  \n",
       "freq             NaN           NaN               NaN           NaN  \n",
       "mean     7951.277273   3071.931818       2881.493182   1524.870455  \n",
       "std      9503.162829   4854.673333       4767.854448   2820.105937  \n",
       "min         3.000000     25.000000          3.000000      3.000000  \n",
       "25%      2153.000000    742.250000        256.750000    408.250000  \n",
       "50%      4755.500000   1526.000000        816.500000    965.500000  \n",
       "75%     10655.750000   3554.250000       3922.000000   1820.250000  \n",
       "max     92780.000000  60869.000000      40827.000000  47943.000000  "
      ]
     },
     "execution_count": 133,
     "metadata": {},
     "output_type": "execute_result"
    }
   ],
   "source": [
    "Customerdata.describe(include=\"all\")"
   ]
  },
  {
   "cell_type": "markdown",
   "metadata": {},
   "source": [
    "Data looks legit as all the statistics seem reasonable- Looking at the data, Buyer/Spender spends more of there annaul income in buying fresh items when compared to other 5 items accross stores.\n",
    "\n",
    "However, inorder to determine the behaviour of varities accross region and channel, I have used coefficient of variables formula \n",
    "since this is the best approach to determine the variance by measuring the distibution of the products and the mean values were showing differences.\n",
    "Upon doing that, I have found that the behavior is symmetric as the items COV value ranges in 1 to 1.85 ..Which is very minimal difference. Concluding that the varieties show similar behaviour across Region and Channel.\n"
   ]
  },
  {
   "cell_type": "code",
   "execution_count": 134,
   "metadata": {},
   "outputs": [
    {
     "data": {
      "text/plain": [
       "Buyer/Spender       0.576695\n",
       "Fresh               1.053918\n",
       "Milk                1.273299\n",
       "Grocery             1.195174\n",
       "Frozen              1.580332\n",
       "Detergents_Paper    1.654647\n",
       "Delicatessen        1.849407\n",
       "dtype: float64"
      ]
     },
     "execution_count": 134,
     "metadata": {},
     "output_type": "execute_result"
    }
   ],
   "source": [
    "COV= Customerdata.std()/Customerdata.mean()\n",
    "COV"
   ]
  },
  {
   "cell_type": "code",
   "execution_count": 135,
   "metadata": {},
   "outputs": [
    {
     "data": {
      "text/plain": [
       "<matplotlib.axes._subplots.AxesSubplot at 0x1d36dff69a0>"
      ]
     },
     "execution_count": 135,
     "metadata": {},
     "output_type": "execute_result"
    },
    {
     "data": {
      "image/png": "[encoded data removed]",
      "text/plain": [
       "<Figure size 432x288 with 1 Axes>"
      ]
     },
     "metadata": {
      "needs_background": "light"
     },
     "output_type": "display_data"
    }
   ],
   "source": [
    "sns.distplot(COV)"
   ]
  },
  {
   "cell_type": "markdown",
   "metadata": {},
   "source": [
    "1.3 On the basis of a descriptive measure of variability, which item shows the most inconsistent behaviour? Which items show the least inconsistent behaviour?"
   ]
  },
  {
   "cell_type": "markdown",
   "metadata": {},
   "source": [
    "Standard deviation is the best approach to determie the variabilty. \n",
    "Here, FRESH items are the most inconsistent and has high variation among other items in terms of price.\n",
    "and DELICATESSEN are the least inconsistent."
   ]
  },
  {
   "cell_type": "markdown",
   "metadata": {},
   "source": [
    "1.4 Are there any outliers in the data?"
   ]
  },
  {
   "cell_type": "markdown",
   "metadata": {},
   "source": [
    "To check the outliers, I have used boxplot keeping the 6 items on Y axis and region on X axis, where channel is the parameter.\n",
    "\n",
    "1. Y=Milk, X=Region(Other, Lisbon, Oporto)\n",
    "   * We can see extreme values in other regions for both the channels\n",
    "   * Very few extreme values in Lisbon region \n",
    "   * No outlier in oporto region for retail\n",
    "2. Y=Fresh , X=Region\n",
    "   * Less extreme value in retail and extreme value in hotel for other region\n",
    "   * Less extreme values for both the channels in Lisbon region\n",
    "   * No outlier in Oporto region for Hotel channel\n",
    "3. Y=Grocery, X=Region\n",
    "    * Few extreme value in both the channels for other region\n",
    "    * No outlier for retail channel and few extreme for hotel channel in Lisbon region\n",
    "    * Very few extreme values in Oporto for both the channels\n",
    "4. Y=Frozen, x=Region\n",
    "    * Few extreme values in Lisbon and Oporto regions for both the channels\n",
    "5. Y=Detergents_Paper, X=Region\n",
    "    * Other region as it is Highly skewed, there are quiet a lot of extreme values  for Retail channel\n",
    "    * No outlier in Lisbon for Retail, and few extreme value for Hotel channel\n",
    "    * Very few extreme value in oporto region for both the channels\n",
    "6. Y=Delicatessen ,X=Region\n",
    "     * Since, dellicatessen is the least consistent item which makes the boxplot very clumpsy.We intrepret few extreme values in every region for both the channels except Oporto, as it do not has a outlier in oporto retail region.\n",
    "      "
   ]
  },
  {
   "cell_type": "code",
   "execution_count": 136,
   "metadata": {},
   "outputs": [
    {
     "data": {
      "image/png": "[encoded data removed]",
      "text/plain": [
       "<Figure size 1080x1080 with 1 Axes>"
      ]
     },
     "metadata": {
      "needs_background": "light"
     },
     "output_type": "display_data"
    },
    {
     "data": {
      "image/png": "[encoded data removed]",
      "text/plain": [
       "<Figure size 1080x1080 with 1 Axes>"
      ]
     },
     "metadata": {
      "needs_background": "light"
     },
     "output_type": "display_data"
    },
    {
     "data": {
      "image/png": "[encoded data removed]",
      "text/plain": [
       "<Figure size 1080x720 with 1 Axes>"
      ]
     },
     "metadata": {
      "needs_background": "light"
     },
     "output_type": "display_data"
    },
    {
     "data": {
      "image/png": "[encoded data removed]",
      "text/plain": [
       "<Figure size 1080x720 with 1 Axes>"
      ]
     },
     "metadata": {
      "needs_background": "light"
     },
     "output_type": "display_data"
    },
    {
     "data": {
      "image/png": "[encoded data removed]",
      "text/plain": [
       "<Figure size 1080x720 with 1 Axes>"
      ]
     },
     "metadata": {
      "needs_background": "light"
     },
     "output_type": "display_data"
    },
    {
     "data": {
      "image/png": "[encoded data removed]",
      "text/plain": [
       "<Figure size 1080x720 with 1 Axes>"
      ]
     },
     "metadata": {
      "needs_background": "light"
     },
     "output_type": "display_data"
    }
   ],
   "source": [
    "plt.figure(figsize= (15,15))\n",
    "plt.subplot(3,1,1)\n",
    "sns.boxplot(y=Customerdata['Milk'],x= Customerdata['Region'],hue=Customerdata['Channel'] ,color='lightblue')\n",
    "\n",
    "plt.figure(figsize= (15,15))\n",
    "plt.subplot(3,1,1)\n",
    "sns.boxplot(y=Customerdata['Fresh'],x= Customerdata['Region'],hue=Customerdata['Channel'] ,color='lightblue')\n",
    "\n",
    "plt.figure(figsize= (15,10))\n",
    "plt.subplot(3,1,1)\n",
    "sns.boxplot(y=Customerdata['Grocery'],x= Customerdata['Region'],hue=Customerdata['Channel'] ,color='lightblue')\n",
    "\n",
    "plt.figure(figsize= (15,10))\n",
    "plt.subplot(3,1,1)\n",
    "sns.boxplot(y=Customerdata['Frozen'],x= Customerdata['Region'],hue=Customerdata['Channel'] ,color='lightblue')\n",
    "\n",
    "plt.figure(figsize= (15,10))\n",
    "plt.subplot(3,1,1)\n",
    "sns.boxplot(y=Customerdata['Detergents_Paper'],x= Customerdata['Region'],hue=Customerdata['Channel'] ,color='lightblue')\n",
    "\n",
    "plt.figure(figsize= (15,10))\n",
    "plt.subplot(3,1,1)\n",
    "sns.boxplot(y=Customerdata['Delicatessen'],x= Customerdata['Region'],hue=Customerdata['Channel'] ,color='lightblue')\n",
    "\n",
    "plt.show()"
   ]
  },
  {
   "cell_type": "markdown",
   "metadata": {},
   "source": [
    "1.5 On the basis of your analysis, what are your recommendations for the business? How can your analysis help the business to solve its problem? Answer from the business perspective"
   ]
  },
  {
   "cell_type": "markdown",
   "metadata": {},
   "source": [
    "As per the analysis,\n",
    "1.Retailers should stock more milk across different regions and different sales channel. As that is consumed more when compared to other products. \n",
    "2.The wholesale customer data frame has a legit data, And it has outliers which are unusual values in a dataset. That needs to be removed for effective business decisions. \n",
    "3.Delicatessen is the item which has been sold least in all the regions, So Business decision can be made weather to increase or decrease the item. It gives a scope for decision making."
   ]
  },
  {
   "cell_type": "markdown",
   "metadata": {},
   "source": [
    "# PROBLEM 2 STATEMENT -\n",
    "The Student News Service at Clear Mountain State University (CMSU) has decided to gather data about the undergraduate students that attend CMSU. CMSU creates and distributes a survey of 14 questions and receives responses from 62 undergraduates (stored in the Survey data set)."
   ]
  },
  {
   "cell_type": "code",
   "execution_count": 137,
   "metadata": {},
   "outputs": [
    {
     "data": {
      "text/html": [
       "<div>\n",
       "<style scoped>\n",
       "    .dataframe tbody tr th:only-of-type {\n",
       "        vertical-align: middle;\n",
       "    }\n",
       "\n",
       "    .dataframe tbody tr th {\n",
       "        vertical-align: top;\n",
       "    }\n",
       "\n",
       "    .dataframe thead th {\n",
       "        text-align: right;\n",
       "    }\n",
       "</style>\n",
       "<table border=\"1\" class=\"dataframe\">\n",
       "  <thead>\n",
       "    <tr style=\"text-align: right;\">\n",
       "      <th></th>\n",
       "      <th>ID</th>\n",
       "      <th>Gender</th>\n",
       "      <th>Age</th>\n",
       "      <th>Class</th>\n",
       "      <th>Major</th>\n",
       "      <th>Grad Intention</th>\n",
       "      <th>GPA</th>\n",
       "      <th>Employment</th>\n",
       "      <th>Salary</th>\n",
       "      <th>Social Networking</th>\n",
       "      <th>Satisfaction</th>\n",
       "      <th>Spending</th>\n",
       "      <th>Computer</th>\n",
       "      <th>Text Messages</th>\n",
       "    </tr>\n",
       "  </thead>\n",
       "  <tbody>\n",
       "    <tr>\n",
       "      <th>0</th>\n",
       "      <td>1</td>\n",
       "      <td>Female</td>\n",
       "      <td>20</td>\n",
       "      <td>Junior</td>\n",
       "      <td>Other</td>\n",
       "      <td>Yes</td>\n",
       "      <td>2.9</td>\n",
       "      <td>Full-Time</td>\n",
       "      <td>50.0</td>\n",
       "      <td>1</td>\n",
       "      <td>3</td>\n",
       "      <td>350</td>\n",
       "      <td>Laptop</td>\n",
       "      <td>200</td>\n",
       "    </tr>\n",
       "    <tr>\n",
       "      <th>1</th>\n",
       "      <td>2</td>\n",
       "      <td>Male</td>\n",
       "      <td>23</td>\n",
       "      <td>Senior</td>\n",
       "      <td>Management</td>\n",
       "      <td>Yes</td>\n",
       "      <td>3.6</td>\n",
       "      <td>Part-Time</td>\n",
       "      <td>25.0</td>\n",
       "      <td>1</td>\n",
       "      <td>4</td>\n",
       "      <td>360</td>\n",
       "      <td>Laptop</td>\n",
       "      <td>50</td>\n",
       "    </tr>\n",
       "    <tr>\n",
       "      <th>2</th>\n",
       "      <td>3</td>\n",
       "      <td>Male</td>\n",
       "      <td>21</td>\n",
       "      <td>Junior</td>\n",
       "      <td>Other</td>\n",
       "      <td>Yes</td>\n",
       "      <td>2.5</td>\n",
       "      <td>Part-Time</td>\n",
       "      <td>45.0</td>\n",
       "      <td>2</td>\n",
       "      <td>4</td>\n",
       "      <td>600</td>\n",
       "      <td>Laptop</td>\n",
       "      <td>200</td>\n",
       "    </tr>\n",
       "    <tr>\n",
       "      <th>3</th>\n",
       "      <td>4</td>\n",
       "      <td>Male</td>\n",
       "      <td>21</td>\n",
       "      <td>Junior</td>\n",
       "      <td>CIS</td>\n",
       "      <td>Yes</td>\n",
       "      <td>2.5</td>\n",
       "      <td>Full-Time</td>\n",
       "      <td>40.0</td>\n",
       "      <td>4</td>\n",
       "      <td>6</td>\n",
       "      <td>600</td>\n",
       "      <td>Laptop</td>\n",
       "      <td>250</td>\n",
       "    </tr>\n",
       "    <tr>\n",
       "      <th>4</th>\n",
       "      <td>5</td>\n",
       "      <td>Male</td>\n",
       "      <td>23</td>\n",
       "      <td>Senior</td>\n",
       "      <td>Other</td>\n",
       "      <td>Undecided</td>\n",
       "      <td>2.8</td>\n",
       "      <td>Unemployed</td>\n",
       "      <td>40.0</td>\n",
       "      <td>2</td>\n",
       "      <td>4</td>\n",
       "      <td>500</td>\n",
       "      <td>Laptop</td>\n",
       "      <td>100</td>\n",
       "    </tr>\n",
       "  </tbody>\n",
       "</table>\n",
       "</div>"
      ],
      "text/plain": [
       "   ID  Gender  Age   Class       Major Grad Intention  GPA  Employment  \\\n",
       "0   1  Female   20  Junior       Other            Yes  2.9   Full-Time   \n",
       "1   2    Male   23  Senior  Management            Yes  3.6   Part-Time   \n",
       "2   3    Male   21  Junior       Other            Yes  2.5   Part-Time   \n",
       "3   4    Male   21  Junior         CIS            Yes  2.5   Full-Time   \n",
       "4   5    Male   23  Senior       Other      Undecided  2.8  Unemployed   \n",
       "\n",
       "   Salary  Social Networking  Satisfaction  Spending Computer  Text Messages  \n",
       "0    50.0                  1             3       350   Laptop            200  \n",
       "1    25.0                  1             4       360   Laptop             50  \n",
       "2    45.0                  2             4       600   Laptop            200  \n",
       "3    40.0                  4             6       600   Laptop            250  \n",
       "4    40.0                  2             4       500   Laptop            100  "
      ]
     },
     "execution_count": 137,
     "metadata": {},
     "output_type": "execute_result"
    }
   ],
   "source": [
    "# Importing the CMU Survey dataset\n",
    "\n",
    "Survey=pd.read_csv('Survey-1.csv')\n",
    "Survey.head()"
   ]
  },
  {
   "cell_type": "code",
   "execution_count": 138,
   "metadata": {},
   "outputs": [
    {
     "name": "stdout",
     "output_type": "stream",
     "text": [
      "<class 'pandas.core.frame.DataFrame'>\n",
      "RangeIndex: 62 entries, 0 to 61\n",
      "Data columns (total 14 columns):\n",
      " #   Column             Non-Null Count  Dtype  \n",
      "---  ------             --------------  -----  \n",
      " 0   ID                 62 non-null     int64  \n",
      " 1   Gender             62 non-null     object \n",
      " 2   Age                62 non-null     int64  \n",
      " 3   Class              62 non-null     object \n",
      " 4   Major              62 non-null     object \n",
      " 5   Grad Intention     62 non-null     object \n",
      " 6   GPA                62 non-null     float64\n",
      " 7   Employment         62 non-null     object \n",
      " 8   Salary             62 non-null     float64\n",
      " 9   Social Networking  62 non-null     int64  \n",
      " 10  Satisfaction       62 non-null     int64  \n",
      " 11  Spending           62 non-null     int64  \n",
      " 12  Computer           62 non-null     object \n",
      " 13  Text Messages      62 non-null     int64  \n",
      "dtypes: float64(2), int64(6), object(6)\n",
      "memory usage: 6.9+ KB\n"
     ]
    }
   ],
   "source": [
    "Survey.info()"
   ]
  },
  {
   "cell_type": "markdown",
   "metadata": {},
   "source": [
    "The data has 62 instances with 14 attributes. 6 integer type, 2 float type and 6 object type(Strings in the column)"
   ]
  },
  {
   "cell_type": "markdown",
   "metadata": {},
   "source": [
    "2.1. For this data, construct the following contingency tables (Keep Gender as row variable)\n",
    "\n",
    "2.1.1. Gender and Major\n"
   ]
  },
  {
   "cell_type": "code",
   "execution_count": 224,
   "metadata": {},
   "outputs": [
    {
     "name": "stdout",
     "output_type": "stream",
     "text": [
      "Major   Accounting  CIS  Economics/Finance  International Business  \\\n",
      "Gender                                                               \n",
      "Female           3    3                  7                       4   \n",
      "Male             4    1                  4                       2   \n",
      "All              7    4                 11                       6   \n",
      "\n",
      "Major   Management  Other  Retailing/Marketing  Undecided  All  \n",
      "Gender                                                          \n",
      "Female           4      3                    9          0   33  \n",
      "Male             6      4                    5          3   29  \n",
      "All             10      7                   14          3   62  \n"
     ]
    }
   ],
   "source": [
    "Major_Crosstab= pd.crosstab(Survey['Gender'], Survey['Major'], margins = True)  \n",
    "print(Major_Crosstab) "
   ]
  },
  {
   "cell_type": "markdown",
   "metadata": {},
   "source": [
    "2.1.2. Gender and Grad Intention"
   ]
  },
  {
   "cell_type": "code",
   "execution_count": 254,
   "metadata": {},
   "outputs": [
    {
     "name": "stdout",
     "output_type": "stream",
     "text": [
      "Grad Intention  No  Undecided  Yes  All\n",
      "Gender                                 \n",
      "Female           9         13   11   33\n",
      "Male             3          9   17   29\n",
      "All             12         22   28   62\n"
     ]
    }
   ],
   "source": [
    "GradIntention_Crosstab= pd.crosstab(Survey['Gender'], Survey['Grad Intention'], margins = True)  \n",
    "print(GradIntention_Crosstab) "
   ]
  },
  {
   "cell_type": "markdown",
   "metadata": {},
   "source": [
    "2.1.3. Gender and Employment"
   ]
  },
  {
   "cell_type": "code",
   "execution_count": 226,
   "metadata": {},
   "outputs": [
    {
     "name": "stdout",
     "output_type": "stream",
     "text": [
      "Employment  Full-Time  Part-Time  Unemployed  All\n",
      "Gender                                           \n",
      "Female              3         24           6   33\n",
      "Male                7         19           3   29\n",
      "All                10         43           9   62\n"
     ]
    }
   ],
   "source": [
    "Employment_Crosstab= pd.crosstab(Survey['Gender'], Survey['Employment'], margins = True)  \n",
    "print(Employment_Crosstab) "
   ]
  },
  {
   "cell_type": "markdown",
   "metadata": {},
   "source": [
    "2.1.4. Gender and Computer"
   ]
  },
  {
   "cell_type": "code",
   "execution_count": 225,
   "metadata": {},
   "outputs": [
    {
     "name": "stdout",
     "output_type": "stream",
     "text": [
      "Computer  Desktop  Laptop  Tablet  All\n",
      "Gender                                \n",
      "Female          2      29       2   33\n",
      "Male            3      26       0   29\n",
      "All             5      55       2   62\n"
     ]
    }
   ],
   "source": [
    "Computer_Crosstab= pd.crosstab(Survey['Gender'], Survey['Computer'], margins = True)  \n",
    "print(Computer_Crosstab) "
   ]
  },
  {
   "cell_type": "markdown",
   "metadata": {},
   "source": [
    "2.2. Assume that the sample is representative of the population of CMSU. Based on the data, answer the following question:\n",
    "\n",
    "2.2.1. What is the probability that a randomly selected CMSU student will be male?\n"
   ]
  },
  {
   "cell_type": "code",
   "execution_count": 164,
   "metadata": {},
   "outputs": [
    {
     "name": "stdout",
     "output_type": "stream",
     "text": [
      "Probability of randomly selected male is 46.8%\n"
     ]
    }
   ],
   "source": [
    "Total_Population=62\n",
    "Total_Male=29\n",
    "Prob_Male = round(Total_Male/Total_Population,3)*100\n",
    "print('Probability of randomly selected male is %1.1f' % Prob_Male +'%')"
   ]
  },
  {
   "cell_type": "markdown",
   "metadata": {},
   "source": [
    "\n",
    "2.2.2. What is the probability that a randomly selected CMSU student will be female?"
   ]
  },
  {
   "cell_type": "code",
   "execution_count": 171,
   "metadata": {},
   "outputs": [
    {
     "name": "stdout",
     "output_type": "stream",
     "text": [
      "Probability of randomly selected female is 53.2%\n"
     ]
    }
   ],
   "source": [
    "Total_Population=62\n",
    "Total_Female=33\n",
    "Prob_Female = round(Total_Female/Total_Population,3)*100\n",
    "print('Probability of randomly selected female is %1.1f' % Prob_Female +'%')"
   ]
  },
  {
   "cell_type": "markdown",
   "metadata": {},
   "source": [
    "2.3. Assume that the sample is representative of the population of CMSU. Based on the data, answer the following question:\n",
    "\n",
    "2.3.1. Find the conditional probability of different majors among the male students in CMSU.\n"
   ]
  },
  {
   "cell_type": "code",
   "execution_count": 188,
   "metadata": {},
   "outputs": [
    {
     "name": "stdout",
     "output_type": "stream",
     "text": [
      "13.8\n",
      "3.45\n",
      "13.8\n",
      "6.9\n",
      "20.7\n",
      "13.8\n",
      "17.2\n",
      "10.34\n"
     ]
    }
   ],
   "source": [
    "#Using 2.1.1. Gender and Major crosstab table-\n",
    "\n",
    "P_A_Male=round(4/29,3)*100 \n",
    "print(P_A_Male)\n",
    "P_C_Male=round(1/29,4)*100 \n",
    "print(P_C_Male)\n",
    "P_EF_Male=round(4/29,3)*100 \n",
    "print(P_EF_Male)\n",
    "P_IB_Male=round(2/29,3)*100 \n",
    "print(P_IB_Male)\n",
    "P_M_Male=round(6/29,3)*100 \n",
    "print(P_M_Male)\n",
    "P_O_Male=round(4/29,3)*100 \n",
    "print(P_O_Male)\n",
    "P_RM_Male=round(5/29,3)*100 \n",
    "print(P_RM_Male)\n",
    "P_U_Male=round(3/29,4)*100 \n",
    "print(P_U_Male)\n"
   ]
  },
  {
   "cell_type": "markdown",
   "metadata": {},
   "source": [
    "\n",
    "2.3.2 Find the conditional probability of different majors among the female students of CMSU."
   ]
  },
  {
   "cell_type": "code",
   "execution_count": 195,
   "metadata": {},
   "outputs": [
    {
     "name": "stdout",
     "output_type": "stream",
     "text": [
      "9.1\n",
      "9.09\n",
      "21.2\n",
      "12.1\n",
      "12.1\n",
      "9.1\n",
      "27.3\n",
      "0.0\n"
     ]
    }
   ],
   "source": [
    "#Using 2.1.1. Gender and Major crosstab table-\n",
    "\n",
    "P_A_FeMale=round(3/33,3)*100 \n",
    "print(P_A_FeMale)\n",
    "P_C_FeMale=round(3/33,4)*100 \n",
    "print(P_C_FeMale)\n",
    "P_EF_FeMale=round(7/33,3)*100 \n",
    "print(P_EF_FeMale)\n",
    "P_IB_FeMale=round(4/33,3)*100 \n",
    "print(P_IB_FeMale)\n",
    "P_M_FeMale=round(4/33,3)*100 \n",
    "print(P_M_FeMale)\n",
    "P_O_FeMale=round(3/33,3)*100 \n",
    "print(P_O_FeMale)\n",
    "P_RM_FeMale=round(9/33,3)*100 \n",
    "print(P_RM_FeMale)\n",
    "P_U_FeMale=round(0/33,4)*100 \n",
    "print(P_U_FeMale)"
   ]
  },
  {
   "cell_type": "markdown",
   "metadata": {},
   "source": [
    "2.4. Assume that the sample is a representative of the population of CMSU. Based on the data, answer the following question:\n",
    "\n",
    "2.4.1. Find the probability That a randomly chosen student is a male and intends to graduate.\n"
   ]
  },
  {
   "cell_type": "code",
   "execution_count": 199,
   "metadata": {},
   "outputs": [
    {
     "name": "stdout",
     "output_type": "stream",
     "text": [
      "Probability of randomly selected male and intends to graduate is 60.7%\n"
     ]
    }
   ],
   "source": [
    "#Using 2.1.2. Gender and Grad Intention crosstab table-\n",
    "\n",
    "Male_Gradintend=17\n",
    "Total_Grandintends=28\n",
    "Prob_Male_Gradintend = round(Male_Gradintend/Total_Grandintends,3)*100\n",
    "print('Probability of randomly selected male and intends to graduate is %1.1f' % Prob_Male_Gradintend +'%')"
   ]
  },
  {
   "cell_type": "markdown",
   "metadata": {},
   "source": [
    "2.4.2 Find the probability that a randomly selected student is a female and does NOT have a laptop. "
   ]
  },
  {
   "cell_type": "code",
   "execution_count": 204,
   "metadata": {},
   "outputs": [
    {
     "name": "stdout",
     "output_type": "stream",
     "text": [
      "Probability of randomly selected female and does not have laptop is 12.1%\n"
     ]
    }
   ],
   "source": [
    "#Using 2.1.4. Gender and Computer crosstab table-\n",
    "\n",
    "P_no_Laptop=4 #33-29=4\n",
    "Total_Female=33\n",
    "Female_no_laptop=round(P_no_Laptop/Total_Female,3)*100\n",
    "print('Probability of randomly selected female and does not have laptop is %1.1f' % Female_no_laptop +'%')\n"
   ]
  },
  {
   "cell_type": "markdown",
   "metadata": {},
   "source": [
    "2.5. Assume that the sample is representative of the population of CMSU. Based on the data, answer the following question:\n",
    "\n",
    "2.5.1. Find the probability that a randomly chosen student is either a male or has full-time employment?\n"
   ]
  },
  {
   "cell_type": "code",
   "execution_count": 221,
   "metadata": {},
   "outputs": [
    {
     "name": "stdout",
     "output_type": "stream",
     "text": [
      "Probability of randomly chosen student is either a male or has full-time  is 0.5%\n"
     ]
    }
   ],
   "source": [
    "#Using 2.1.3. Gender and Employment crosstab table-\n",
    "\n",
    "Prob_Male=29\n",
    "Prob_fulltime=10\n",
    "Prob_Male_and_Fulltime=7\n",
    "Prob_either_Male_or_Fulltime=(Prob_Male+Prob_fulltime-Prob_Male_and_Fulltime)/62\n",
    "print('Probability of randomly chosen student is either a male or has full-time  is %1.1f' % Prob_either_Male_or_Fulltime +'%')"
   ]
  },
  {
   "cell_type": "markdown",
   "metadata": {},
   "source": [
    "\n",
    "2.5.2. Find the conditional probability that given a female student is randomly chosen, she is majoring in international business or management."
   ]
  },
  {
   "cell_type": "code",
   "execution_count": 228,
   "metadata": {
    "scrolled": true
   },
   "outputs": [
    {
     "name": "stdout",
     "output_type": "stream",
     "text": [
      "Gender                  Female  Male  All\n",
      "Major                                    \n",
      "Accounting                   3     4    7\n",
      "CIS                          3     1    4\n",
      "Economics/Finance            7     4   11\n",
      "International Business       4     2    6\n",
      "Management                   4     6   10\n",
      "Other                        3     4    7\n",
      "Retailing/Marketing          9     5   14\n",
      "Undecided                    0     3    3\n",
      "All                         33    29   62\n"
     ]
    }
   ],
   "source": [
    "Major_Crosstab= pd.crosstab(Survey['Major'], Survey['Gender'], margins = True)  \n",
    "print(Major_Crosstab) "
   ]
  },
  {
   "cell_type": "code",
   "execution_count": 241,
   "metadata": {},
   "outputs": [
    {
     "name": "stdout",
     "output_type": "stream",
     "text": [
      "Probability of randomly Female student in majoring Business or Managment is 24.2%\n"
     ]
    }
   ],
   "source": [
    "# Using 2.1.1. Gender and Major crosstab table-\n",
    "\n",
    "Prob_Female_InterBusiness=4/33\n",
    "Prob_Female_Managment=4/33\n",
    "Prob_Female_Business_or_managment=(Prob_Female_InterBusiness+Prob_Female_Managment)*100\n",
    "print('Probability of randomly Female student in majoring Business or Managment is %1.1f' % Prob_Female_Business_or_managment +'%')\n"
   ]
  },
  {
   "cell_type": "markdown",
   "metadata": {},
   "source": [
    "2.6.  Construct a contingency table of Gender and Intent to Graduate at 2 levels (Yes/No). The Undecided students are not considered now and the table is a 2x2 table. Do you think the graduate intention and being female are independent events?"
   ]
  },
  {
   "cell_type": "code",
   "execution_count": 313,
   "metadata": {},
   "outputs": [
    {
     "name": "stdout",
     "output_type": "stream",
     "text": [
      "Gender          Female  Male  All\n",
      "Grad Intention                   \n",
      "No                   9     3   12\n",
      "Undecided           13     9   22\n",
      "Yes                 11    17   28\n",
      "All                 33    29   62\n"
     ]
    },
    {
     "name": "stderr",
     "output_type": "stream",
     "text": [
      "<ipython-input-313-3cf2645d6e6e>:2: UserWarning: Pandas doesn't allow columns to be created via a new attribute name - see https://pandas.pydata.org/pandas-docs/stable/indexing.html#attribute-access\n",
      "  GradIntention_Crosstab1.rownames=[\"No\",\"Yes\"]\n"
     ]
    }
   ],
   "source": [
    "GradIntention_Crosstab1=pd.crosstab(Survey['Grad Intention'],Survey['Gender'], margins = True)  \n",
    "GradIntention_Crosstab1.rownames=[\"No\",\"Yes\"]\n",
    "print(GradIntention_Crosstab1) \n"
   ]
  },
  {
   "cell_type": "markdown",
   "metadata": {},
   "source": [
    "2.7. Note that there are four numerical (continuous) variables in the data set, GPA, Salary, Spending, and Text Messages.\n",
    "\n",
    "Answer the following questions based on the data\n",
    "\n",
    "2.7.1. If a student is chosen randomly, what is the probability that his/her GPA is less than 3?"
   ]
  },
  {
   "cell_type": "code",
   "execution_count": 283,
   "metadata": {},
   "outputs": [
    {
     "data": {
      "text/plain": [
       "0.27419354838709675"
      ]
     },
     "execution_count": 283,
     "metadata": {},
     "output_type": "execute_result"
    }
   ],
   "source": [
    "#Total no.of student whose GPA is less than 3 is 17\n",
    "#And total.no of students are =62\n",
    "\n",
    "Prb_Lessthan_3= 17/62\n",
    "Prb_Lessthan_3"
   ]
  },
  {
   "cell_type": "markdown",
   "metadata": {},
   "source": [
    "2.7.2. Find the conditional probability that a randomly selected male earns 50 or more. Find the conditional probability that a randomly selected female earns 50 or more."
   ]
  },
  {
   "cell_type": "code",
   "execution_count": 285,
   "metadata": {},
   "outputs": [
    {
     "name": "stdout",
     "output_type": "stream",
     "text": [
      "Gender  Female  Male  All\n",
      "Salary                   \n",
      "25.0         0     1    1\n",
      "30.0         5     0    5\n",
      "35.0         1     1    2\n",
      "37.0         0     1    1\n",
      "37.5         1     0    1\n",
      "40.0         5     7   12\n",
      "42.0         1     0    1\n",
      "45.0         1     4    5\n",
      "47.0         0     1    1\n",
      "47.5         1     0    1\n",
      "50.0         5     4    9\n",
      "52.0         0     1    1\n",
      "54.0         0     1    1\n",
      "55.0         5     3    8\n",
      "60.0         5     3    8\n",
      "65.0         0     1    1\n",
      "70.0         1     0    1\n",
      "78.0         1     0    1\n",
      "80.0         1     1    2\n",
      "All         33    29   62\n"
     ]
    }
   ],
   "source": [
    "Computer_Crosstab= pd.crosstab(Survey['Salary'], Survey['Gender'], margins = True)  \n",
    "print(Computer_Crosstab) "
   ]
  },
  {
   "cell_type": "code",
   "execution_count": 295,
   "metadata": {},
   "outputs": [
    {
     "data": {
      "text/plain": [
       "0.4827586206896552"
      ]
     },
     "execution_count": 295,
     "metadata": {},
     "output_type": "execute_result"
    }
   ],
   "source": [
    "#Total no of male student earning more than 50 = 14\n",
    "#Total no of male student=29\n",
    "Prob_male_50_or_more=(14/29)\n",
    "Prob_male_50_or_more"
   ]
  },
  {
   "cell_type": "code",
   "execution_count": 296,
   "metadata": {},
   "outputs": [
    {
     "data": {
      "text/plain": [
       "0.5454545454545454"
      ]
     },
     "execution_count": 296,
     "metadata": {},
     "output_type": "execute_result"
    }
   ],
   "source": [
    "#Total no of Female student earning more than 50 = 18\n",
    "#Total no of Female student=33\n",
    "Prob_male_50_or_more=(18/33)\n",
    "Prob_male_50_or_more"
   ]
  },
  {
   "cell_type": "markdown",
   "metadata": {},
   "source": [
    "2.8. Note that there are four numerical (continuous) variables in the data set, GPA, Salary, Spending, and Text Messages. For each of them comment whether they follow a normal distribution. Write a note summarizing your conclusions.\n",
    "\n",
    "1. Left skewed unimodel\n",
    "2. the shape is symmetrical, then the mean, median, and mode are all the same value. It looks like a normally distributed data \n",
    "3. Rightskewed unimodel,This shape indicates that there are a number of data points, perhaps outliers, that are greater than the mode.\n",
    "4. Rightskewed unimodel,This shape indicates that there are a number of data points, perhaps outliers."
   ]
  },
  {
   "cell_type": "code",
   "execution_count": 305,
   "metadata": {},
   "outputs": [
    {
     "data": {
      "image/png": "[encoded data removed]",
      "text/plain": [
       "<Figure size 432x288 with 1 Axes>"
      ]
     },
     "metadata": {
      "needs_background": "light"
     },
     "output_type": "display_data"
    },
    {
     "data": {
      "image/png": "[encoded data removed]",
      "text/plain": [
       "<Figure size 432x288 with 1 Axes>"
      ]
     },
     "metadata": {
      "needs_background": "light"
     },
     "output_type": "display_data"
    },
    {
     "data": {
      "image/png": "[encoded data removed]",
      "text/plain": [
       "<Figure size 432x288 with 1 Axes>"
      ]
     },
     "metadata": {
      "needs_background": "light"
     },
     "output_type": "display_data"
    },
    {
     "data": {
      "image/png": "[encoded data removed]",
      "text/plain": [
       "<Figure size 432x288 with 1 Axes>"
      ]
     },
     "metadata": {
      "needs_background": "light"
     },
     "output_type": "display_data"
    }
   ],
   "source": [
    "plt.hist(Survey['GPA'],color='orange',bins=5)\n",
    "plt.show()\n",
    "\n",
    "plt.hist(Survey['Salary'],color='Red',bins=5)\n",
    "plt.show()\n",
    "\n",
    "plt.hist(Survey['Spending'],color='Green',bins=5)\n",
    "plt.show()\n",
    "\n",
    "plt.hist(Survey['Text Messages'],bins=5)\n",
    "plt.show()"
   ]
  },
  {
   "cell_type": "markdown",
   "metadata": {},
   "source": [
    "# ProbleM 3 Statement-"
   ]
  },
  {
   "cell_type": "markdown",
   "metadata": {},
   "source": [
    "An important quality characteristic used by the manufacturers of ABC asphalt shingles is the amount of moisture the shingles contain when they are packaged. Customers may feel that they have purchased a product lacking in quality if they find moisture and wet shingles inside the packaging.   In some cases, excessive moisture can cause the granules attached to the shingles for texture and colouring purposes to fall off the shingles resulting in appearance problems. To monitor the amount of moisture present, the company conducts moisture tests. A shingle is weighed and then dried. The shingle is then reweighed, and based on the amount of moisture taken out of the product, the pounds of moisture per 100 square feet are calculated. The company would like to show that the mean moisture content is less than 0.35 pound per 100 square feet."
   ]
  },
  {
   "cell_type": "markdown",
   "metadata": {},
   "source": [
    "3.1 Do you think there is evidence that mean moisture contents in both types of shingles are within the permissible limits? State your conclusions clearly showing all steps."
   ]
  },
  {
   "cell_type": "markdown",
   "metadata": {},
   "source": [
    "For A--\n",
    "\n",
    "Stating HO AND HA value\n",
    "H0<=0.35\n",
    "HA>0.35\n",
    "\n",
    "Alpha=0.05 \n",
    "\n",
    "Xbar-samplemean=\t0.316666667\n",
    "sample standard deviation=\t0.135730826\n",
    "samplesize, n=\t36\n",
    "Hypothesized mean\t5.7\n",
    "\n",
    "one sample t test=285 \n",
    "\n",
    "P=TDIST(t,n-1,2)\n",
    "P=1.67973E-60\n",
    "\n",
    "pvalue<Alpha(0.05) -- Reject H0\n",
    "\n"
   ]
  },
  {
   "cell_type": "code",
   "execution_count": null,
   "metadata": {},
   "outputs": [],
   "source": [
    "For B--\n",
    "\n",
    "Stating HO AND HA value\n",
    "H0<=0.35\n",
    "HA>0.35\n",
    "\n",
    "Alpha=0.05 \n",
    "\n",
    "Xbar-samplemean=\t0.273548387\n",
    "sample standard deviation=\t0.137296477\n",
    "samplesize, n=\t31\n",
    "Hypothesized mean\t4.42\n",
    "\n",
    "one sample t test=153\n",
    "\n",
    "P=TDIST(t,n-1,2)\n",
    "P=5.85807E-45\n",
    "\n",
    "pvalue<Alpha(0.05) -- Reject H0\n"
   ]
  },
  {
   "cell_type": "markdown",
   "metadata": {},
   "source": [
    "3.2 Do you think that the population mean for shingles A and B are equal? Form the hypothesis and conduct the test of the hypothesis. What assumption do you need to check before the test for equality of means is performed?"
   ]
  },
  {
   "cell_type": "markdown",
   "metadata": {},
   "source": [
    "Statistical conclusion based on the p value, both A and B shingles has the exponential value with is less that the null value.\n",
    "Hence we rejected the null hypothesis.\n",
    "\n"
   ]
  }
 ],
 "metadata": {
  "kernelspec": {
   "display_name": "Python 3",
   "language": "python",
   "name": "python3"
  },
  "language_info": {
   "codemirror_mode": {
    "name": "ipython",
    "version": 3
   },
   "file_extension": ".py",
   "mimetype": "text/x-python",
   "name": "python",
   "nbconvert_exporter": "python",
   "pygments_lexer": "ipython3",
   "version": "3.8.3"
  }
 },
 "nbformat": 4,
 "nbformat_minor": 4
}
